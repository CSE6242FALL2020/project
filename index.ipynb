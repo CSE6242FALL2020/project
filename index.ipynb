{
 "cells": [
  {
   "cell_type": "markdown",
   "metadata": {
    "pycharm": {
     "name": "#%% md\n"
    }
   },
   "source": [
    "# Group Project\n",
    "\n",
    "## CSE 6242, Data and Visual Analytics\n",
    "\n",
    "### Georgia Tech, Fall 2020\n",
    "\n",
    "#### Participants: Sean Webber, Edward Gramza, Ramin Melikov"
   ]
  },
  {
   "cell_type": "markdown",
   "metadata": {
    "pycharm": {
     "name": "#%% md\n"
    }
   },
   "source": [
    "It so happened that our brainstorming session was at the same time the\n",
    "Western US was engulfed in wildfires. The wildfires then became the center\n",
    "of our discussions and eventually became the subject of our analysis. We\n",
    "wanted to see if we could use the techniques we've learned in our class or\n",
    "other classes of the OMSA program to predict wildfires or identify variables\n",
    "that contribute to this problem. The next steps for us would be to find data\n",
    "sources necessary to tackle this problem as well as research that would guide\n",
    "our project. Upon initial research, we've discovered the `1.88 Million US Wildfires`\n",
    "dataset, as well as few others. It will be our main dataset for this project."
   ]
  },
  {
   "cell_type": "markdown",
   "metadata": {},
   "source": [
    "The `1.88 Million US Wildfires` dataset is a curated dataset provided by\n",
    "Kaggle and is located at [here](https://www.kaggle.com/rtatman/188-million-us-wildfires)."
   ]
  },
  {
   "cell_type": "code",
   "execution_count": 1,
   "metadata": {},
   "outputs": [],
   "source": [
    "import sqlite3\n",
    "import pandas as pd\n",
    "from pandas_profiling import ProfileReport"
   ]
  },
  {
   "cell_type": "markdown",
   "metadata": {},
   "source": [
    "We want to get the data and move it to a `pandas` dataframe for our analysis."
   ]
  },
  {
   "cell_type": "code",
   "execution_count": 2,
   "metadata": {
    "pycharm": {
     "name": "#%%\n"
    }
   },
   "outputs": [],
   "source": [
    "con = sqlite3.connect('./data/FPA_FOD_20170508.sqlite')\n",
    "cur = con.cursor()\n",
    "df = pd.read_sql_query(\"select * from fires\", con)\n",
    "con.close()"
   ]
  },
  {
   "cell_type": "markdown",
   "metadata": {},
   "source": [
    "Let's look at at the metadata."
   ]
  },
  {
   "cell_type": "code",
   "execution_count": 3,
   "metadata": {},
   "outputs": [
    {
     "name": "stdout",
     "output_type": "stream",
     "text": [
      "<class 'pandas.core.frame.DataFrame'>\n",
      "RangeIndex: 1880465 entries, 0 to 1880464\n",
      "Data columns (total 39 columns):\n",
      " #   Column                      Dtype  \n",
      "---  ------                      -----  \n",
      " 0   OBJECTID                    int64  \n",
      " 1   FOD_ID                      int64  \n",
      " 2   FPA_ID                      object \n",
      " 3   SOURCE_SYSTEM_TYPE          object \n",
      " 4   SOURCE_SYSTEM               object \n",
      " 5   NWCG_REPORTING_AGENCY       object \n",
      " 6   NWCG_REPORTING_UNIT_ID      object \n",
      " 7   NWCG_REPORTING_UNIT_NAME    object \n",
      " 8   SOURCE_REPORTING_UNIT       object \n",
      " 9   SOURCE_REPORTING_UNIT_NAME  object \n",
      " 10  LOCAL_FIRE_REPORT_ID        object \n",
      " 11  LOCAL_INCIDENT_ID           object \n",
      " 12  FIRE_CODE                   object \n",
      " 13  FIRE_NAME                   object \n",
      " 14  ICS_209_INCIDENT_NUMBER     object \n",
      " 15  ICS_209_NAME                object \n",
      " 16  MTBS_ID                     object \n",
      " 17  MTBS_FIRE_NAME              object \n",
      " 18  COMPLEX_NAME                object \n",
      " 19  FIRE_YEAR                   int64  \n",
      " 20  DISCOVERY_DATE              float64\n",
      " 21  DISCOVERY_DOY               int64  \n",
      " 22  DISCOVERY_TIME              object \n",
      " 23  STAT_CAUSE_CODE             float64\n",
      " 24  STAT_CAUSE_DESCR            object \n",
      " 25  CONT_DATE                   float64\n",
      " 26  CONT_DOY                    float64\n",
      " 27  CONT_TIME                   object \n",
      " 28  FIRE_SIZE                   float64\n",
      " 29  FIRE_SIZE_CLASS             object \n",
      " 30  LATITUDE                    float64\n",
      " 31  LONGITUDE                   float64\n",
      " 32  OWNER_CODE                  float64\n",
      " 33  OWNER_DESCR                 object \n",
      " 34  STATE                       object \n",
      " 35  COUNTY                      object \n",
      " 36  FIPS_CODE                   object \n",
      " 37  FIPS_NAME                   object \n",
      " 38  Shape                       object \n",
      "dtypes: float64(8), int64(4), object(27)\n",
      "memory usage: 559.5+ MB\n"
     ]
    }
   ],
   "source": [
    "df.info()"
   ]
  },
  {
   "cell_type": "markdown",
   "metadata": {
    "pycharm": {
     "name": "#%% md\n"
    }
   },
   "source": [
    "We also wanted to take a closer look at the metadata using the\n",
    "`pandas_profiling` package. The code below produced an `HTML`\n",
    "file that has all of the metadata about this dataset.\n",
    "\n",
    "````markdown\n",
    "profile = ProfileReport(df, title='Pandas Profiling Report', explorative=True)\n",
    "profile.to_file(\"data_profile.html\")\n",
    "````\n",
    "The metadata `HTML` file can be accessed [here](data_profile.html)\n",
    "\n",
    "---"
   ]
  },
  {
   "cell_type": "markdown",
   "metadata": {
    "pycharm": {
     "name": "#%% md\n"
    }
   },
   "source": [
    "During our research, we've also discovered that there is a relationship\n",
    "between drought and wildfires (Addington et al., 2015). Drought is very stronly\n",
    "related to wildfires. (Furthermore, from the same research paper we've learned\n",
    "that municipalities that do a good job with respect to prescribed fires experience\n",
    "less wildfires.)\n",
    "\n",
    "To that end, the government has a resource, called the [US Drought Monitor](https://www.drought.gov/)\n",
    "and it shows the current conditions with respect to drought.\n",
    "\n",
    "![](current_conditions.png)"
   ]
  },
  {
   "cell_type": "markdown",
   "metadata": {},
   "source": [
    "Upon reviewing the images for different periods, it became obvious that the Western\n",
    "part of the US is the primary drought region."
   ]
  },
  {
   "cell_type": "markdown",
   "metadata": {},
   "source": [
    "The code below calls a Tableau workbook that we've created. It shows a map of the total\n",
    "number of wildfires per state between 1992 and 2015."
   ]
  },
  {
   "cell_type": "code",
   "execution_count": 1,
   "metadata": {
    "pycharm": {
     "name": "#%%\n"
    }
   },
   "outputs": [
    {
     "data": {
      "text/html": [
       "\n",
       "<div class='tableauPlaceholder' id='viz1605982185029' style='position: relative'>\n",
       "\t<noscript>\n",
       "\t\t<a href='#'> <img alt=' ' src='https:&#47;&#47;public.tableau.com&#47;static&#47;images&#47;CS&#47;CSE6242GroupProject&#47;NumberofWildfires&#47;1_rss.png' style='border: none' /> </a>\n",
       "\t</noscript>\n",
       "\t<object class='tableauViz' style='display:none;'>\n",
       "\t\t<param name='host_url' value='https%3A%2F%2Fpublic.tableau.com%2F' />\n",
       "\t\t<param name='embed_code_version' value='3' />\n",
       "\t\t<param name='site_root' value='' />\n",
       "\t\t<param name='name' value='CSE6242GroupProject&#47;NumberofWildfires' />\n",
       "\t\t<param name='tabs' value='no' />\n",
       "\t\t<param name='toolbar' value='yes' />\n",
       "\t\t<param name='static_image' value='https:&#47;&#47;public.tableau.com&#47;static&#47;images&#47;CS&#47;CSE6242GroupProject&#47;NumberofWildfires&#47;1.png' />\n",
       "\t\t<param name='animate_transition' value='yes' />\n",
       "\t\t<param name='display_static_image' value='yes' />\n",
       "\t\t<param name='display_spinner' value='yes' />\n",
       "\t\t<param name='display_overlay' value='yes' />\n",
       "\t\t<param name='display_count' value='yes' />\n",
       "\t\t<param name='language' value='en' />\n",
       "\t\t<param name='filter' value='publish=yes' /> </object>\n",
       "</div>\n",
       "<script type='text/javascript'>\n",
       "var divElement = document.getElementById('viz1605982185029');\n",
       "var vizElement = divElement.getElementsByTagName('object')[0];\n",
       "if(divElement.offsetWidth > 800) {\n",
       "\tvizElement.style.width = '1000px';\n",
       "\tvizElement.style.height = '827px';\n",
       "} else if(divElement.offsetWidth > 500) {\n",
       "\tvizElement.style.width = '1000px';\n",
       "\tvizElement.style.height = '827px';\n",
       "} else {\n",
       "\tvizElement.style.width = '100%';\n",
       "\tvizElement.style.height = '727px';\n",
       "}\n",
       "var scriptElement = document.createElement('script');\n",
       "scriptElement.src = 'https://public.tableau.com/javascripts/api/viz_v1.js';\n",
       "vizElement.parentNode.insertBefore(scriptElement, vizElement);\n",
       "</script>\n"
      ],
      "text/plain": [
       "<IPython.core.display.HTML object>"
      ]
     },
     "metadata": {},
     "output_type": "display_data"
    }
   ],
   "source": [
    "%%html\n",
    "\n",
    "<div class='tableauPlaceholder' id='viz1605982185029' style='position: relative'>\n",
    "\t<noscript>\n",
    "\t\t<a href='#'> <img alt=' ' src='https:&#47;&#47;public.tableau.com&#47;static&#47;images&#47;CS&#47;CSE6242GroupProject&#47;NumberofWildfires&#47;1_rss.png' style='border: none' /> </a>\n",
    "\t</noscript>\n",
    "\t<object class='tableauViz' style='display:none;'>\n",
    "\t\t<param name='host_url' value='https%3A%2F%2Fpublic.tableau.com%2F' />\n",
    "\t\t<param name='embed_code_version' value='3' />\n",
    "\t\t<param name='site_root' value='' />\n",
    "\t\t<param name='name' value='CSE6242GroupProject&#47;NumberofWildfires' />\n",
    "\t\t<param name='tabs' value='no' />\n",
    "\t\t<param name='toolbar' value='yes' />\n",
    "\t\t<param name='static_image' value='https:&#47;&#47;public.tableau.com&#47;static&#47;images&#47;CS&#47;CSE6242GroupProject&#47;NumberofWildfires&#47;1.png' />\n",
    "\t\t<param name='animate_transition' value='yes' />\n",
    "\t\t<param name='display_static_image' value='yes' />\n",
    "\t\t<param name='display_spinner' value='yes' />\n",
    "\t\t<param name='display_overlay' value='yes' />\n",
    "\t\t<param name='display_count' value='yes' />\n",
    "\t\t<param name='language' value='en' />\n",
    "\t\t<param name='filter' value='publish=yes' /> </object>\n",
    "</div>\n",
    "<script type='text/javascript'>\n",
    "var divElement = document.getElementById('viz1605982185029');\n",
    "var vizElement = divElement.getElementsByTagName('object')[0];\n",
    "if(divElement.offsetWidth > 800) {\n",
    "\tvizElement.style.width = '1000px';\n",
    "\tvizElement.style.height = '827px';\n",
    "} else if(divElement.offsetWidth > 500) {\n",
    "\tvizElement.style.width = '1000px';\n",
    "\tvizElement.style.height = '827px';\n",
    "} else {\n",
    "\tvizElement.style.width = '100%';\n",
    "\tvizElement.style.height = '727px';\n",
    "}\n",
    "var scriptElement = document.createElement('script');\n",
    "scriptElement.src = 'https://public.tableau.com/javascripts/api/viz_v1.js';\n",
    "vizElement.parentNode.insertBefore(scriptElement, vizElement);\n",
    "</script>"
   ]
  },
  {
   "cell_type": "markdown",
   "metadata": {
    "pycharm": {
     "name": "#%% md\n"
    }
   },
   "source": [
    "Looking at the map, we can see that most of the wildfires have been happening in\n",
    "the Southern part of the US. And when evaluating the map, we see that the highest\n",
    "number of wildfires is in the state of California. For our project, we are reducing\n",
    "the scope of our project to the state of California."
   ]
  },
  {
   "cell_type": "code",
   "execution_count": 9,
   "metadata": {
    "jupyter": {
     "outputs_hidden": false
    },
    "pycharm": {
     "name": "#%%\n"
    }
   },
   "outputs": [
    {
     "data": {
      "text/html": [
       "\n",
       "<div class='tableauPlaceholder' id='viz1606012369370' style='position: relative'>\n",
       "\t<noscript>\n",
       "\t\t<a href='#'><img alt=' ' src='https:&#47;&#47;public.tableau.com&#47;static&#47;images&#47;Ca&#47;CaliforniaWildfiresperCounty&#47;CaliforniaTotalNumberofFires&#47;1_rss.png' style='border: none' /></a>\n",
       "\t</noscript>\n",
       "\t<object class='tableauViz' style='display:none;'>\n",
       "\t\t<param name='host_url' value='https%3A%2F%2Fpublic.tableau.com%2F' />\n",
       "\t\t<param name='embed_code_version' value='3' />\n",
       "\t\t<param name='site_root' value='' />\n",
       "\t\t<param name='name' value='CaliforniaWildfiresperCounty&#47;CaliforniaTotalNumberofFires' />\n",
       "\t\t<param name='tabs' value='no' />\n",
       "\t\t<param name='toolbar' value='yes' />\n",
       "\t\t<param name='static_image' value='https:&#47;&#47;public.tableau.com&#47;static&#47;images&#47;Ca&#47;CaliforniaWildfiresperCounty&#47;CaliforniaTotalNumberofFires&#47;1.png' />\n",
       "\t\t<param name='animate_transition' value='yes' />\n",
       "\t\t<param name='display_static_image' value='yes' />\n",
       "\t\t<param name='display_spinner' value='yes' />\n",
       "\t\t<param name='display_overlay' value='yes' />\n",
       "\t\t<param name='display_count' value='yes' />\n",
       "\t\t<param name='language' value='en' />\n",
       "\t\t<param name='filter' value='publish=yes' />\n",
       "\t</object>\n",
       "</div>\n",
       "<script type='text/javascript'>\n",
       "var divElement = document.getElementById('viz1606012369370');\n",
       "var vizElement = divElement.getElementsByTagName('object')[0];\n",
       "if(divElement.offsetWidth > 800) {\n",
       "\tvizElement.style.width = '700px';\n",
       "\tvizElement.style.height = '827px';\n",
       "} else if(divElement.offsetWidth > 500) {\n",
       "\tvizElement.style.width = '700px';\n",
       "\tvizElement.style.height = '827px';\n",
       "} else {\n",
       "\tvizElement.style.width = '100%';\n",
       "\tvizElement.style.height = '727px';\n",
       "}\n",
       "var scriptElement = document.createElement('script');\n",
       "scriptElement.src = 'https://public.tableau.com/javascripts/api/viz_v1.js';\n",
       "vizElement.parentNode.insertBefore(scriptElement, vizElement);\n",
       "</script>\n"
      ],
      "text/plain": [
       "<IPython.core.display.HTML object>"
      ]
     },
     "metadata": {},
     "output_type": "display_data"
    }
   ],
   "source": [
    "%%html\n",
    "\n",
    "<div class='tableauPlaceholder' id='viz1606012369370' style='position: relative'>\n",
    "\t<noscript>\n",
    "\t\t<a href='#'><img alt=' ' src='https:&#47;&#47;public.tableau.com&#47;static&#47;images&#47;Ca&#47;CaliforniaWildfiresperCounty&#47;CaliforniaTotalNumberofFires&#47;1_rss.png' style='border: none' /></a>\n",
    "\t</noscript>\n",
    "\t<object class='tableauViz' style='display:none;'>\n",
    "\t\t<param name='host_url' value='https%3A%2F%2Fpublic.tableau.com%2F' />\n",
    "\t\t<param name='embed_code_version' value='3' />\n",
    "\t\t<param name='site_root' value='' />\n",
    "\t\t<param name='name' value='CaliforniaWildfiresperCounty&#47;CaliforniaTotalNumberofFires' />\n",
    "\t\t<param name='tabs' value='no' />\n",
    "\t\t<param name='toolbar' value='yes' />\n",
    "\t\t<param name='static_image' value='https:&#47;&#47;public.tableau.com&#47;static&#47;images&#47;Ca&#47;CaliforniaWildfiresperCounty&#47;CaliforniaTotalNumberofFires&#47;1.png' />\n",
    "\t\t<param name='animate_transition' value='yes' />\n",
    "\t\t<param name='display_static_image' value='yes' />\n",
    "\t\t<param name='display_spinner' value='yes' />\n",
    "\t\t<param name='display_overlay' value='yes' />\n",
    "\t\t<param name='display_count' value='yes' />\n",
    "\t\t<param name='language' value='en' />\n",
    "\t\t<param name='filter' value='publish=yes' />\n",
    "\t</object>\n",
    "</div>\n",
    "<script type='text/javascript'>\n",
    "var divElement = document.getElementById('viz1606012369370');\n",
    "var vizElement = divElement.getElementsByTagName('object')[0];\n",
    "if(divElement.offsetWidth > 800) {\n",
    "\tvizElement.style.width = '700px';\n",
    "\tvizElement.style.height = '827px';\n",
    "} else if(divElement.offsetWidth > 500) {\n",
    "\tvizElement.style.width = '700px';\n",
    "\tvizElement.style.height = '827px';\n",
    "} else {\n",
    "\tvizElement.style.width = '100%';\n",
    "\tvizElement.style.height = '727px';\n",
    "}\n",
    "var scriptElement = document.createElement('script');\n",
    "scriptElement.src = 'https://public.tableau.com/javascripts/api/viz_v1.js';\n",
    "vizElement.parentNode.insertBefore(scriptElement, vizElement);\n",
    "</script>"
   ]
  },
  {
   "cell_type": "markdown",
   "metadata": {
    "pycharm": {
     "name": "#%% md\n"
    }
   },
   "source": [
    "Looking at the output above, we can see that the bubbles tend to get larger toward\n",
    "the Southern part of California."
   ]
  },
  {
   "cell_type": "markdown",
   "metadata": {
    "pycharm": {
     "name": "#%% md\n"
    }
   },
   "source": [
    "Let's take a look at the causes of wildfires for California.\n",
    "\n",
    "**Note: We had to use OpenRefine to clean and reduce the data.**"
   ]
  },
  {
   "cell_type": "code",
   "execution_count": 7,
   "metadata": {
    "jupyter": {
     "outputs_hidden": false
    },
    "pycharm": {
     "name": "#%%\n"
    }
   },
   "outputs": [
    {
     "data": {
      "text/html": [
       "\n",
       "<div class='tableauPlaceholder' id='viz1606011758444' style='position: relative'>\n",
       "\t<noscript>\n",
       "\t\t<a href='#'><img alt=' ' src='https:&#47;&#47;public.tableau.com&#47;static&#47;images&#47;Ca&#47;CausesofWildfiresinCalifornia&#47;CausesofWildfiresoverTimeinCalifornia&#47;1_rss.png' style='border: none' /></a>\n",
       "\t</noscript>\n",
       "\t<object class='tableauViz' style='display:none;'>\n",
       "\t\t<param name='host_url' value='https%3A%2F%2Fpublic.tableau.com%2F' />\n",
       "\t\t<param name='embed_code_version' value='3' />\n",
       "\t\t<param name='site_root' value='' />\n",
       "\t\t<param name='name' value='CausesofWildfiresinCalifornia&#47;CausesofWildfiresoverTimeinCalifornia' />\n",
       "\t\t<param name='tabs' value='no' />\n",
       "\t\t<param name='toolbar' value='yes' />\n",
       "\t\t<param name='static_image' value='https:&#47;&#47;public.tableau.com&#47;static&#47;images&#47;Ca&#47;CausesofWildfiresinCalifornia&#47;CausesofWildfiresoverTimeinCalifornia&#47;1.png' />\n",
       "\t\t<param name='animate_transition' value='yes' />\n",
       "\t\t<param name='display_static_image' value='yes' />\n",
       "\t\t<param name='display_spinner' value='yes' />\n",
       "\t\t<param name='display_overlay' value='yes' />\n",
       "\t\t<param name='display_count' value='yes' />\n",
       "\t\t<param name='language' value='en' />\n",
       "\t\t<param name='filter' value='publish=yes' />\n",
       "\t</object>\n",
       "</div>\n",
       "<script type='text/javascript'>\n",
       "var divElement = document.getElementById('viz1606011758444');\n",
       "var vizElement = divElement.getElementsByTagName('object')[0];\n",
       "if(divElement.offsetWidth > 800) {\n",
       "\tvizElement.style.width = '800px';\n",
       "\tvizElement.style.height = '931px';\n",
       "} else if(divElement.offsetWidth > 500) {\n",
       "\tvizElement.style.width = '800px';\n",
       "\tvizElement.style.height = '931px';\n",
       "} else {\n",
       "\tvizElement.style.width = '100%';\n",
       "\tvizElement.style.height = '3527px';\n",
       "}\n",
       "var scriptElement = document.createElement('script');\n",
       "scriptElement.src = 'https://public.tableau.com/javascripts/api/viz_v1.js';\n",
       "vizElement.parentNode.insertBefore(scriptElement, vizElement);\n",
       "</script>\n"
      ],
      "text/plain": [
       "<IPython.core.display.HTML object>"
      ]
     },
     "metadata": {},
     "output_type": "display_data"
    }
   ],
   "source": [
    "%%html\n",
    "\n",
    "<div class='tableauPlaceholder' id='viz1606011758444' style='position: relative'>\n",
    "\t<noscript>\n",
    "\t\t<a href='#'><img alt=' ' src='https:&#47;&#47;public.tableau.com&#47;static&#47;images&#47;Ca&#47;CausesofWildfiresinCalifornia&#47;CausesofWildfiresoverTimeinCalifornia&#47;1_rss.png' style='border: none' /></a>\n",
    "\t</noscript>\n",
    "\t<object class='tableauViz' style='display:none;'>\n",
    "\t\t<param name='host_url' value='https%3A%2F%2Fpublic.tableau.com%2F' />\n",
    "\t\t<param name='embed_code_version' value='3' />\n",
    "\t\t<param name='site_root' value='' />\n",
    "\t\t<param name='name' value='CausesofWildfiresinCalifornia&#47;CausesofWildfiresoverTimeinCalifornia' />\n",
    "\t\t<param name='tabs' value='no' />\n",
    "\t\t<param name='toolbar' value='yes' />\n",
    "\t\t<param name='static_image' value='https:&#47;&#47;public.tableau.com&#47;static&#47;images&#47;Ca&#47;CausesofWildfiresinCalifornia&#47;CausesofWildfiresoverTimeinCalifornia&#47;1.png' />\n",
    "\t\t<param name='animate_transition' value='yes' />\n",
    "\t\t<param name='display_static_image' value='yes' />\n",
    "\t\t<param name='display_spinner' value='yes' />\n",
    "\t\t<param name='display_overlay' value='yes' />\n",
    "\t\t<param name='display_count' value='yes' />\n",
    "\t\t<param name='language' value='en' />\n",
    "\t\t<param name='filter' value='publish=yes' />\n",
    "\t</object>\n",
    "</div>\n",
    "<script type='text/javascript'>\n",
    "var divElement = document.getElementById('viz1606011758444');\n",
    "var vizElement = divElement.getElementsByTagName('object')[0];\n",
    "if(divElement.offsetWidth > 800) {\n",
    "\tvizElement.style.width = '800px';\n",
    "\tvizElement.style.height = '931px';\n",
    "} else if(divElement.offsetWidth > 500) {\n",
    "\tvizElement.style.width = '800px';\n",
    "\tvizElement.style.height = '931px';\n",
    "} else {\n",
    "\tvizElement.style.width = '100%';\n",
    "\tvizElement.style.height = '3527px';\n",
    "}\n",
    "var scriptElement = document.createElement('script');\n",
    "scriptElement.src = 'https://public.tableau.com/javascripts/api/viz_v1.js';\n",
    "vizElement.parentNode.insertBefore(scriptElement, vizElement);\n",
    "</script>"
   ]
  }
 ],
 "metadata": {
  "kernelspec": {
   "display_name": "Python 3",
   "language": "python",
   "name": "python3"
  },
  "language_info": {
   "codemirror_mode": {
    "name": "ipython",
    "version": 3
   },
   "file_extension": ".py",
   "mimetype": "text/x-python",
   "name": "python",
   "nbconvert_exporter": "python",
   "pygments_lexer": "ipython3",
   "version": "3.7.9"
  }
 },
 "nbformat": 4,
 "nbformat_minor": 4
}